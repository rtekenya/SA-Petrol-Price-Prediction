{
 "cells": [
  {
   "cell_type": "code",
   "execution_count": 1,
   "id": "0f52397c",
   "metadata": {},
   "outputs": [
    {
     "data": {
      "text/html": [
       "<div>\n",
       "<style scoped>\n",
       "    .dataframe tbody tr th:only-of-type {\n",
       "        vertical-align: middle;\n",
       "    }\n",
       "\n",
       "    .dataframe tbody tr th {\n",
       "        vertical-align: top;\n",
       "    }\n",
       "\n",
       "    .dataframe thead th {\n",
       "        text-align: right;\n",
       "    }\n",
       "</style>\n",
       "<table border=\"1\" class=\"dataframe\">\n",
       "  <thead>\n",
       "    <tr style=\"text-align: right;\">\n",
       "      <th></th>\n",
       "      <th>Date</th>\n",
       "      <th>Total Price</th>\n",
       "      <th>BFP</th>\n",
       "      <th>Fuel tax</th>\n",
       "      <th>Customes &amp;excise</th>\n",
       "      <th>Road accident Fund</th>\n",
       "      <th>Transport cost</th>\n",
       "      <th>Petroleum Products Levy</th>\n",
       "      <th>Wholesale margin</th>\n",
       "      <th>Other Cost(BFP+FT+RAF-TP)</th>\n",
       "      <th>Price per Barrel(USD)</th>\n",
       "      <th>USD-ZAR</th>\n",
       "      <th>Price per Barel(Rand)</th>\n",
       "    </tr>\n",
       "  </thead>\n",
       "  <tbody>\n",
       "    <tr>\n",
       "      <th>0</th>\n",
       "      <td>2011-01-01</td>\n",
       "      <td>8.58</td>\n",
       "      <td>4.53949</td>\n",
       "      <td>1.675</td>\n",
       "      <td>0.04</td>\n",
       "      <td>0.72</td>\n",
       "      <td>0.155</td>\n",
       "      <td>0.0015</td>\n",
       "      <td>0.54101</td>\n",
       "      <td>1.64551</td>\n",
       "      <td>89.17</td>\n",
       "      <td>6.9119</td>\n",
       "      <td>616.334123</td>\n",
       "    </tr>\n",
       "    <tr>\n",
       "      <th>1</th>\n",
       "      <td>2011-02-01</td>\n",
       "      <td>8.84</td>\n",
       "      <td>4.79949</td>\n",
       "      <td>1.675</td>\n",
       "      <td>0.04</td>\n",
       "      <td>0.72</td>\n",
       "      <td>0.155</td>\n",
       "      <td>0.0015</td>\n",
       "      <td>0.54101</td>\n",
       "      <td>1.64551</td>\n",
       "      <td>88.58</td>\n",
       "      <td>7.2032</td>\n",
       "      <td>638.059456</td>\n",
       "    </tr>\n",
       "    <tr>\n",
       "      <th>2</th>\n",
       "      <td>2011-03-01</td>\n",
       "      <td>9.27</td>\n",
       "      <td>5.22949</td>\n",
       "      <td>1.675</td>\n",
       "      <td>0.04</td>\n",
       "      <td>0.72</td>\n",
       "      <td>0.155</td>\n",
       "      <td>0.0015</td>\n",
       "      <td>0.54101</td>\n",
       "      <td>1.64551</td>\n",
       "      <td>102.86</td>\n",
       "      <td>6.9351</td>\n",
       "      <td>713.344386</td>\n",
       "    </tr>\n",
       "    <tr>\n",
       "      <th>3</th>\n",
       "      <td>2011-04-01</td>\n",
       "      <td>9.80</td>\n",
       "      <td>5.52149</td>\n",
       "      <td>1.775</td>\n",
       "      <td>0.04</td>\n",
       "      <td>0.80</td>\n",
       "      <td>0.229</td>\n",
       "      <td>0.0015</td>\n",
       "      <td>0.54101</td>\n",
       "      <td>1.70351</td>\n",
       "      <td>109.53</td>\n",
       "      <td>6.7410</td>\n",
       "      <td>738.341730</td>\n",
       "    </tr>\n",
       "    <tr>\n",
       "      <th>4</th>\n",
       "      <td>2011-05-01</td>\n",
       "      <td>10.09</td>\n",
       "      <td>5.81149</td>\n",
       "      <td>1.775</td>\n",
       "      <td>0.04</td>\n",
       "      <td>0.80</td>\n",
       "      <td>0.229</td>\n",
       "      <td>0.0015</td>\n",
       "      <td>0.54101</td>\n",
       "      <td>1.70351</td>\n",
       "      <td>100.90</td>\n",
       "      <td>6.8613</td>\n",
       "      <td>692.305170</td>\n",
       "    </tr>\n",
       "  </tbody>\n",
       "</table>\n",
       "</div>"
      ],
      "text/plain": [
       "        Date  Total Price      BFP  Fuel tax   Customes &excise   \\\n",
       "0 2011-01-01         8.58  4.53949      1.675               0.04   \n",
       "1 2011-02-01         8.84  4.79949      1.675               0.04   \n",
       "2 2011-03-01         9.27  5.22949      1.675               0.04   \n",
       "3 2011-04-01         9.80  5.52149      1.775               0.04   \n",
       "4 2011-05-01        10.09  5.81149      1.775               0.04   \n",
       "\n",
       "   Road accident Fund   Transport cost   Petroleum Products Levy   \\\n",
       "0                 0.72            0.155                    0.0015   \n",
       "1                 0.72            0.155                    0.0015   \n",
       "2                 0.72            0.155                    0.0015   \n",
       "3                 0.80            0.229                    0.0015   \n",
       "4                 0.80            0.229                    0.0015   \n",
       "\n",
       "   Wholesale margin  Other Cost(BFP+FT+RAF-TP)   Price per Barrel(USD)  \\\n",
       "0           0.54101                     1.64551                  89.17   \n",
       "1           0.54101                     1.64551                  88.58   \n",
       "2           0.54101                     1.64551                 102.86   \n",
       "3           0.54101                     1.70351                 109.53   \n",
       "4           0.54101                     1.70351                 100.90   \n",
       "\n",
       "   USD-ZAR  Price per Barel(Rand)  \n",
       "0   6.9119             616.334123  \n",
       "1   7.2032             638.059456  \n",
       "2   6.9351             713.344386  \n",
       "3   6.7410             738.341730  \n",
       "4   6.8613             692.305170  "
      ]
     },
     "execution_count": 1,
     "metadata": {},
     "output_type": "execute_result"
    }
   ],
   "source": [
    "import pandas as pd\n",
    "df = pd.read_excel('FinalCleanedv2.xlsx', sheet_name=('Petrol'))\n",
    "df.head()"
   ]
  },
  {
   "cell_type": "code",
   "execution_count": 2,
   "id": "531b5c6c",
   "metadata": {},
   "outputs": [
    {
     "data": {
      "text/html": [
       "<div>\n",
       "<style scoped>\n",
       "    .dataframe tbody tr th:only-of-type {\n",
       "        vertical-align: middle;\n",
       "    }\n",
       "\n",
       "    .dataframe tbody tr th {\n",
       "        vertical-align: top;\n",
       "    }\n",
       "\n",
       "    .dataframe thead th {\n",
       "        text-align: right;\n",
       "    }\n",
       "</style>\n",
       "<table border=\"1\" class=\"dataframe\">\n",
       "  <thead>\n",
       "    <tr style=\"text-align: right;\">\n",
       "      <th></th>\n",
       "      <th>Date</th>\n",
       "      <th>Total Price</th>\n",
       "      <th>BFP</th>\n",
       "      <th>Fuel tax</th>\n",
       "      <th>Customes &amp;excise</th>\n",
       "      <th>Road accident Fund</th>\n",
       "      <th>Transport cost</th>\n",
       "      <th>Petroleum Products Levy</th>\n",
       "      <th>Wholesale margin</th>\n",
       "      <th>Other Cost(BFP+FT+RAF-TP)</th>\n",
       "      <th>Price per Barrel(USD)</th>\n",
       "      <th>USD-ZAR</th>\n",
       "      <th>Price per Barel(Rand)</th>\n",
       "    </tr>\n",
       "  </thead>\n",
       "  <tbody>\n",
       "    <tr>\n",
       "      <th>124</th>\n",
       "      <td>2021-05-01</td>\n",
       "      <td>17.13</td>\n",
       "      <td>7.2717</td>\n",
       "      <td>3.93</td>\n",
       "      <td>0.04</td>\n",
       "      <td>2.18</td>\n",
       "      <td>0.649</td>\n",
       "      <td>0.0033</td>\n",
       "      <td>0.405</td>\n",
       "      <td>3.7483</td>\n",
       "      <td>65.17</td>\n",
       "      <td>14.0766</td>\n",
       "      <td>917.372022</td>\n",
       "    </tr>\n",
       "    <tr>\n",
       "      <th>125</th>\n",
       "      <td>2021-06-01</td>\n",
       "      <td>17.23</td>\n",
       "      <td>7.1717</td>\n",
       "      <td>3.93</td>\n",
       "      <td>0.04</td>\n",
       "      <td>2.18</td>\n",
       "      <td>0.649</td>\n",
       "      <td>0.0033</td>\n",
       "      <td>0.405</td>\n",
       "      <td>3.9483</td>\n",
       "      <td>71.38</td>\n",
       "      <td>13.9067</td>\n",
       "      <td>992.660246</td>\n",
       "    </tr>\n",
       "    <tr>\n",
       "      <th>126</th>\n",
       "      <td>2021-07-01</td>\n",
       "      <td>17.32</td>\n",
       "      <td>7.4317</td>\n",
       "      <td>3.93</td>\n",
       "      <td>0.04</td>\n",
       "      <td>2.18</td>\n",
       "      <td>0.649</td>\n",
       "      <td>0.0033</td>\n",
       "      <td>0.405</td>\n",
       "      <td>3.7783</td>\n",
       "      <td>72.49</td>\n",
       "      <td>14.5352</td>\n",
       "      <td>1053.656648</td>\n",
       "    </tr>\n",
       "    <tr>\n",
       "      <th>127</th>\n",
       "      <td>2021-08-01</td>\n",
       "      <td>16.32</td>\n",
       "      <td>8.2759</td>\n",
       "      <td>3.93</td>\n",
       "      <td>0.04</td>\n",
       "      <td>2.18</td>\n",
       "      <td>0.649</td>\n",
       "      <td>0.0033</td>\n",
       "      <td>0.405</td>\n",
       "      <td>1.9341</td>\n",
       "      <td>67.73</td>\n",
       "      <td>14.7989</td>\n",
       "      <td>1002.329497</td>\n",
       "    </tr>\n",
       "    <tr>\n",
       "      <th>128</th>\n",
       "      <td>2021-09-01</td>\n",
       "      <td>15.67</td>\n",
       "      <td>8.1711</td>\n",
       "      <td>3.93</td>\n",
       "      <td>0.04</td>\n",
       "      <td>2.18</td>\n",
       "      <td>0.649</td>\n",
       "      <td>0.0033</td>\n",
       "      <td>0.405</td>\n",
       "      <td>1.3889</td>\n",
       "      <td>71.65</td>\n",
       "      <td>14.5624</td>\n",
       "      <td>1043.395960</td>\n",
       "    </tr>\n",
       "  </tbody>\n",
       "</table>\n",
       "</div>"
      ],
      "text/plain": [
       "          Date  Total Price     BFP  Fuel tax   Customes &excise   \\\n",
       "124 2021-05-01        17.13  7.2717       3.93               0.04   \n",
       "125 2021-06-01        17.23  7.1717       3.93               0.04   \n",
       "126 2021-07-01        17.32  7.4317       3.93               0.04   \n",
       "127 2021-08-01        16.32  8.2759       3.93               0.04   \n",
       "128 2021-09-01        15.67  8.1711       3.93               0.04   \n",
       "\n",
       "     Road accident Fund   Transport cost   Petroleum Products Levy   \\\n",
       "124                 2.18            0.649                    0.0033   \n",
       "125                 2.18            0.649                    0.0033   \n",
       "126                 2.18            0.649                    0.0033   \n",
       "127                 2.18            0.649                    0.0033   \n",
       "128                 2.18            0.649                    0.0033   \n",
       "\n",
       "     Wholesale margin  Other Cost(BFP+FT+RAF-TP)   Price per Barrel(USD)  \\\n",
       "124             0.405                      3.7483                  65.17   \n",
       "125             0.405                      3.9483                  71.38   \n",
       "126             0.405                      3.7783                  72.49   \n",
       "127             0.405                      1.9341                  67.73   \n",
       "128             0.405                      1.3889                  71.65   \n",
       "\n",
       "     USD-ZAR  Price per Barel(Rand)  \n",
       "124  14.0766             917.372022  \n",
       "125  13.9067             992.660246  \n",
       "126  14.5352            1053.656648  \n",
       "127  14.7989            1002.329497  \n",
       "128  14.5624            1043.395960  "
      ]
     },
     "execution_count": 2,
     "metadata": {},
     "output_type": "execute_result"
    }
   ],
   "source": [
    "df.tail()"
   ]
  },
  {
   "cell_type": "code",
   "execution_count": 3,
   "id": "231df606",
   "metadata": {},
   "outputs": [
    {
     "data": {
      "text/html": [
       "<div>\n",
       "<style scoped>\n",
       "    .dataframe tbody tr th:only-of-type {\n",
       "        vertical-align: middle;\n",
       "    }\n",
       "\n",
       "    .dataframe tbody tr th {\n",
       "        vertical-align: top;\n",
       "    }\n",
       "\n",
       "    .dataframe thead th {\n",
       "        text-align: right;\n",
       "    }\n",
       "</style>\n",
       "<table border=\"1\" class=\"dataframe\">\n",
       "  <thead>\n",
       "    <tr style=\"text-align: right;\">\n",
       "      <th></th>\n",
       "      <th>Total Price</th>\n",
       "      <th>BFP</th>\n",
       "      <th>Fuel tax</th>\n",
       "      <th>Customes &amp;excise</th>\n",
       "      <th>Road accident Fund</th>\n",
       "      <th>Transport cost</th>\n",
       "      <th>Petroleum Products Levy</th>\n",
       "      <th>Wholesale margin</th>\n",
       "      <th>Other Cost(BFP+FT+RAF-TP)</th>\n",
       "      <th>Price per Barrel(USD)</th>\n",
       "      <th>USD-ZAR</th>\n",
       "      <th>Price per Barel(Rand)</th>\n",
       "    </tr>\n",
       "  </thead>\n",
       "  <tbody>\n",
       "    <tr>\n",
       "      <th>count</th>\n",
       "      <td>129.000000</td>\n",
       "      <td>129.000000</td>\n",
       "      <td>129.000000</td>\n",
       "      <td>129.00</td>\n",
       "      <td>129.000000</td>\n",
       "      <td>129.000000</td>\n",
       "      <td>128.000000</td>\n",
       "      <td>129.000000</td>\n",
       "      <td>129.000000</td>\n",
       "      <td>129.000000</td>\n",
       "      <td>129.000000</td>\n",
       "      <td>129.000000</td>\n",
       "    </tr>\n",
       "    <tr>\n",
       "      <th>mean</th>\n",
       "      <td>13.556434</td>\n",
       "      <td>6.454662</td>\n",
       "      <td>2.771047</td>\n",
       "      <td>0.04</td>\n",
       "      <td>1.454884</td>\n",
       "      <td>0.405093</td>\n",
       "      <td>0.002527</td>\n",
       "      <td>0.401528</td>\n",
       "      <td>2.876643</td>\n",
       "      <td>68.152713</td>\n",
       "      <td>12.271593</td>\n",
       "      <td>778.543680</td>\n",
       "    </tr>\n",
       "    <tr>\n",
       "      <th>std</th>\n",
       "      <td>2.102759</td>\n",
       "      <td>1.106942</td>\n",
       "      <td>0.719843</td>\n",
       "      <td>0.00</td>\n",
       "      <td>0.484057</td>\n",
       "      <td>0.142898</td>\n",
       "      <td>0.000895</td>\n",
       "      <td>0.093517</td>\n",
       "      <td>1.380518</td>\n",
       "      <td>23.268066</td>\n",
       "      <td>2.912485</td>\n",
       "      <td>161.100697</td>\n",
       "    </tr>\n",
       "    <tr>\n",
       "      <th>min</th>\n",
       "      <td>8.580000</td>\n",
       "      <td>2.747700</td>\n",
       "      <td>1.675000</td>\n",
       "      <td>0.04</td>\n",
       "      <td>0.720000</td>\n",
       "      <td>0.155000</td>\n",
       "      <td>0.001500</td>\n",
       "      <td>0.310000</td>\n",
       "      <td>0.051700</td>\n",
       "      <td>16.550000</td>\n",
       "      <td>6.741000</td>\n",
       "      <td>307.548650</td>\n",
       "    </tr>\n",
       "    <tr>\n",
       "      <th>25%</th>\n",
       "      <td>12.350000</td>\n",
       "      <td>5.651490</td>\n",
       "      <td>2.125000</td>\n",
       "      <td>0.04</td>\n",
       "      <td>0.960000</td>\n",
       "      <td>0.289000</td>\n",
       "      <td>0.001500</td>\n",
       "      <td>0.335000</td>\n",
       "      <td>1.863510</td>\n",
       "      <td>49.520000</td>\n",
       "      <td>10.045100</td>\n",
       "      <td>653.928165</td>\n",
       "    </tr>\n",
       "    <tr>\n",
       "      <th>50%</th>\n",
       "      <td>13.400000</td>\n",
       "      <td>6.325500</td>\n",
       "      <td>2.850000</td>\n",
       "      <td>0.04</td>\n",
       "      <td>1.540000</td>\n",
       "      <td>0.410000</td>\n",
       "      <td>0.003300</td>\n",
       "      <td>0.356000</td>\n",
       "      <td>2.648300</td>\n",
       "      <td>61.720000</td>\n",
       "      <td>13.158900</td>\n",
       "      <td>761.714937</td>\n",
       "    </tr>\n",
       "    <tr>\n",
       "      <th>75%</th>\n",
       "      <td>14.860000</td>\n",
       "      <td>7.231700</td>\n",
       "      <td>3.370000</td>\n",
       "      <td>0.04</td>\n",
       "      <td>1.930000</td>\n",
       "      <td>0.517000</td>\n",
       "      <td>0.003300</td>\n",
       "      <td>0.525000</td>\n",
       "      <td>3.525100</td>\n",
       "      <td>93.210000</td>\n",
       "      <td>14.437900</td>\n",
       "      <td>876.884390</td>\n",
       "    </tr>\n",
       "    <tr>\n",
       "      <th>max</th>\n",
       "      <td>18.340000</td>\n",
       "      <td>8.627900</td>\n",
       "      <td>3.930000</td>\n",
       "      <td>0.04</td>\n",
       "      <td>2.180000</td>\n",
       "      <td>0.649000</td>\n",
       "      <td>0.003300</td>\n",
       "      <td>0.580000</td>\n",
       "      <td>7.298300</td>\n",
       "      <td>109.530000</td>\n",
       "      <td>18.583000</td>\n",
       "      <td>1129.985306</td>\n",
       "    </tr>\n",
       "  </tbody>\n",
       "</table>\n",
       "</div>"
      ],
      "text/plain": [
       "       Total Price         BFP   Fuel tax   Customes &excise   \\\n",
       "count   129.000000  129.000000  129.000000             129.00   \n",
       "mean     13.556434    6.454662    2.771047               0.04   \n",
       "std       2.102759    1.106942    0.719843               0.00   \n",
       "min       8.580000    2.747700    1.675000               0.04   \n",
       "25%      12.350000    5.651490    2.125000               0.04   \n",
       "50%      13.400000    6.325500    2.850000               0.04   \n",
       "75%      14.860000    7.231700    3.370000               0.04   \n",
       "max      18.340000    8.627900    3.930000               0.04   \n",
       "\n",
       "       Road accident Fund   Transport cost   Petroleum Products Levy   \\\n",
       "count           129.000000       129.000000                128.000000   \n",
       "mean              1.454884         0.405093                  0.002527   \n",
       "std               0.484057         0.142898                  0.000895   \n",
       "min               0.720000         0.155000                  0.001500   \n",
       "25%               0.960000         0.289000                  0.001500   \n",
       "50%               1.540000         0.410000                  0.003300   \n",
       "75%               1.930000         0.517000                  0.003300   \n",
       "max               2.180000         0.649000                  0.003300   \n",
       "\n",
       "       Wholesale margin  Other Cost(BFP+FT+RAF-TP)   Price per Barrel(USD)  \\\n",
       "count        129.000000                  129.000000             129.000000   \n",
       "mean           0.401528                    2.876643              68.152713   \n",
       "std            0.093517                    1.380518              23.268066   \n",
       "min            0.310000                    0.051700              16.550000   \n",
       "25%            0.335000                    1.863510              49.520000   \n",
       "50%            0.356000                    2.648300              61.720000   \n",
       "75%            0.525000                    3.525100              93.210000   \n",
       "max            0.580000                    7.298300             109.530000   \n",
       "\n",
       "          USD-ZAR  Price per Barel(Rand)  \n",
       "count  129.000000             129.000000  \n",
       "mean    12.271593             778.543680  \n",
       "std      2.912485             161.100697  \n",
       "min      6.741000             307.548650  \n",
       "25%     10.045100             653.928165  \n",
       "50%     13.158900             761.714937  \n",
       "75%     14.437900             876.884390  \n",
       "max     18.583000            1129.985306  "
      ]
     },
     "execution_count": 3,
     "metadata": {},
     "output_type": "execute_result"
    }
   ],
   "source": [
    "df.describe()"
   ]
  },
  {
   "cell_type": "code",
   "execution_count": 4,
   "id": "7aa6fa03",
   "metadata": {},
   "outputs": [
    {
     "data": {
      "text/plain": [
       "Date                          datetime64[ns]\n",
       "Total Price                          float64\n",
       "BFP                                  float64\n",
       "Fuel tax                             float64\n",
       "Customes &excise                     float64\n",
       "Road accident Fund                   float64\n",
       "Transport cost                       float64\n",
       "Petroleum Products Levy              float64\n",
       "Wholesale margin                     float64\n",
       "Other Cost(BFP+FT+RAF-TP)            float64\n",
       "Price per Barrel(USD)                float64\n",
       "USD-ZAR                              float64\n",
       "Price per Barel(Rand)                float64\n",
       "dtype: object"
      ]
     },
     "execution_count": 4,
     "metadata": {},
     "output_type": "execute_result"
    }
   ],
   "source": [
    "df.dtypes"
   ]
  },
  {
   "cell_type": "markdown",
   "id": "fa911256",
   "metadata": {},
   "source": [
    "## Split dataset to X and Y variables"
   ]
  },
  {
   "cell_type": "code",
   "execution_count": 5,
   "id": "a7be6e60",
   "metadata": {},
   "outputs": [
    {
     "data": {
      "text/plain": [
       "0       8.58\n",
       "1       8.84\n",
       "2       9.27\n",
       "3       9.80\n",
       "4      10.09\n",
       "       ...  \n",
       "124    17.13\n",
       "125    17.23\n",
       "126    17.32\n",
       "127    16.32\n",
       "128    15.67\n",
       "Name: Total Price, Length: 129, dtype: float64"
      ]
     },
     "execution_count": 5,
     "metadata": {},
     "output_type": "execute_result"
    }
   ],
   "source": [
    "Y = df['Total Price']\n",
    "Y"
   ]
  },
  {
   "cell_type": "markdown",
   "id": "df23bb7b",
   "metadata": {},
   "source": [
    "#### Drop some columns we wont need, these are the one's with a constant number  of which our model will an error due to NaN ,zero or infinity numbers"
   ]
  },
  {
   "cell_type": "code",
   "execution_count": 7,
   "id": "18e4730e",
   "metadata": {},
   "outputs": [
    {
     "data": {
      "text/html": [
       "<div>\n",
       "<style scoped>\n",
       "    .dataframe tbody tr th:only-of-type {\n",
       "        vertical-align: middle;\n",
       "    }\n",
       "\n",
       "    .dataframe tbody tr th {\n",
       "        vertical-align: top;\n",
       "    }\n",
       "\n",
       "    .dataframe thead th {\n",
       "        text-align: right;\n",
       "    }\n",
       "</style>\n",
       "<table border=\"1\" class=\"dataframe\">\n",
       "  <thead>\n",
       "    <tr style=\"text-align: right;\">\n",
       "      <th></th>\n",
       "      <th>Price per Barel(Rand)</th>\n",
       "      <th>USD-ZAR</th>\n",
       "    </tr>\n",
       "  </thead>\n",
       "  <tbody>\n",
       "    <tr>\n",
       "      <th>0</th>\n",
       "      <td>616.334123</td>\n",
       "      <td>6.9119</td>\n",
       "    </tr>\n",
       "    <tr>\n",
       "      <th>1</th>\n",
       "      <td>638.059456</td>\n",
       "      <td>7.2032</td>\n",
       "    </tr>\n",
       "    <tr>\n",
       "      <th>2</th>\n",
       "      <td>713.344386</td>\n",
       "      <td>6.9351</td>\n",
       "    </tr>\n",
       "    <tr>\n",
       "      <th>3</th>\n",
       "      <td>738.341730</td>\n",
       "      <td>6.7410</td>\n",
       "    </tr>\n",
       "    <tr>\n",
       "      <th>4</th>\n",
       "      <td>692.305170</td>\n",
       "      <td>6.8613</td>\n",
       "    </tr>\n",
       "    <tr>\n",
       "      <th>...</th>\n",
       "      <td>...</td>\n",
       "      <td>...</td>\n",
       "    </tr>\n",
       "    <tr>\n",
       "      <th>124</th>\n",
       "      <td>917.372022</td>\n",
       "      <td>14.0766</td>\n",
       "    </tr>\n",
       "    <tr>\n",
       "      <th>125</th>\n",
       "      <td>992.660246</td>\n",
       "      <td>13.9067</td>\n",
       "    </tr>\n",
       "    <tr>\n",
       "      <th>126</th>\n",
       "      <td>1053.656648</td>\n",
       "      <td>14.5352</td>\n",
       "    </tr>\n",
       "    <tr>\n",
       "      <th>127</th>\n",
       "      <td>1002.329497</td>\n",
       "      <td>14.7989</td>\n",
       "    </tr>\n",
       "    <tr>\n",
       "      <th>128</th>\n",
       "      <td>1043.395960</td>\n",
       "      <td>14.5624</td>\n",
       "    </tr>\n",
       "  </tbody>\n",
       "</table>\n",
       "<p>129 rows × 2 columns</p>\n",
       "</div>"
      ],
      "text/plain": [
       "     Price per Barel(Rand)  USD-ZAR\n",
       "0               616.334123   6.9119\n",
       "1               638.059456   7.2032\n",
       "2               713.344386   6.9351\n",
       "3               738.341730   6.7410\n",
       "4               692.305170   6.8613\n",
       "..                     ...      ...\n",
       "124             917.372022  14.0766\n",
       "125             992.660246  13.9067\n",
       "126            1053.656648  14.5352\n",
       "127            1002.329497  14.7989\n",
       "128            1043.395960  14.5624\n",
       "\n",
       "[129 rows x 2 columns]"
      ]
     },
     "execution_count": 7,
     "metadata": {},
     "output_type": "execute_result"
    }
   ],
   "source": [
    "\n",
    "# X1 = df.drop(['Date'], axis=1)\n",
    "# X2 = X1.drop(['Customes &excise '],axis=1)\n",
    "# X3 = X2.drop(['Price per Barrel(USD)'], axis=1)\n",
    "# X4 = X3.drop(['Wholesale margin'], axis=1)\n",
    "# X5 = X4.drop(['Petroleum Products Levy '], axis=1)\n",
    "# X = X5.drop(['Total Price'], axis=1)\n",
    "X = df[['Price per Barel(Rand)', 'USD-ZAR']]\n",
    "X"
   ]
  },
  {
   "cell_type": "markdown",
   "id": "c3dfb0bd",
   "metadata": {},
   "source": [
    "## Data Split"
   ]
  },
  {
   "cell_type": "code",
   "execution_count": 8,
   "id": "f28f1a5d",
   "metadata": {},
   "outputs": [],
   "source": [
    "from sklearn.model_selection import train_test_split"
   ]
  },
  {
   "cell_type": "markdown",
   "id": "4c83d204",
   "metadata": {},
   "source": [
    "## Perform 80/20 Data split"
   ]
  },
  {
   "cell_type": "code",
   "execution_count": 9,
   "id": "681e9634",
   "metadata": {},
   "outputs": [],
   "source": [
    "X_train, X_test, Y_train, Y_test = train_test_split(X, Y, test_size=0.2)"
   ]
  },
  {
   "cell_type": "markdown",
   "id": "e65ef0fb",
   "metadata": {},
   "source": [
    "## Data dimension"
   ]
  },
  {
   "cell_type": "code",
   "execution_count": 10,
   "id": "34b57f6b",
   "metadata": {},
   "outputs": [
    {
     "data": {
      "text/plain": [
       "((103, 2), (103,))"
      ]
     },
     "execution_count": 10,
     "metadata": {},
     "output_type": "execute_result"
    }
   ],
   "source": [
    "X_train.shape, Y_train.shape"
   ]
  },
  {
   "cell_type": "code",
   "execution_count": 11,
   "id": "a690331a",
   "metadata": {},
   "outputs": [
    {
     "data": {
      "text/plain": [
       "((26, 2), (26,))"
      ]
     },
     "execution_count": 11,
     "metadata": {},
     "output_type": "execute_result"
    }
   ],
   "source": [
    "X_test.shape, Y_test.shape"
   ]
  },
  {
   "cell_type": "markdown",
   "id": "8198b0f1",
   "metadata": {},
   "source": [
    "## Linear Regression Model "
   ]
  },
  {
   "cell_type": "markdown",
   "id": "e615b731",
   "metadata": {},
   "source": [
    "### import the neccessary libraries for the upcoming code"
   ]
  },
  {
   "cell_type": "code",
   "execution_count": 12,
   "id": "3157c994",
   "metadata": {},
   "outputs": [],
   "source": [
    "from sklearn import linear_model \n",
    "from sklearn.metrics import mean_squared_error, r2_score"
   ]
  },
  {
   "cell_type": "markdown",
   "id": "57bf831a",
   "metadata": {},
   "source": [
    "### Build Linear Regression"
   ]
  },
  {
   "cell_type": "markdown",
   "id": "3bae83d1",
   "metadata": {},
   "source": [
    "#### Define the regression model "
   ]
  },
  {
   "cell_type": "code",
   "execution_count": 13,
   "id": "3a5a3be9",
   "metadata": {},
   "outputs": [],
   "source": [
    "model = linear_model.LinearRegression()"
   ]
  },
  {
   "cell_type": "markdown",
   "id": "e97825bd",
   "metadata": {},
   "source": [
    "#### Build a training model"
   ]
  },
  {
   "cell_type": "code",
   "execution_count": 14,
   "id": "e5c6d98e",
   "metadata": {},
   "outputs": [
    {
     "data": {
      "text/plain": [
       "LinearRegression()"
      ]
     },
     "execution_count": 14,
     "metadata": {},
     "output_type": "execute_result"
    }
   ],
   "source": [
    "model.fit(X_train, Y_train)"
   ]
  },
  {
   "cell_type": "code",
   "execution_count": 15,
   "id": "37e31a3b",
   "metadata": {},
   "outputs": [],
   "source": [
    "# Just in case the below code doesn't work\n",
    "#X_test.fillna(X_train.mean(), inplace=True)"
   ]
  },
  {
   "cell_type": "markdown",
   "id": "bb889c63",
   "metadata": {},
   "source": [
    "#### Apply trained model to make prediction (on test set)"
   ]
  },
  {
   "cell_type": "code",
   "execution_count": 15,
   "id": "409b0656",
   "metadata": {},
   "outputs": [],
   "source": [
    "Y_pred = model.predict(X_test)"
   ]
  },
  {
   "cell_type": "markdown",
   "id": "81f6c40e",
   "metadata": {},
   "source": [
    "## Prediction of results "
   ]
  },
  {
   "cell_type": "markdown",
   "id": "1269c7b0",
   "metadata": {},
   "source": [
    "### Print model performance "
   ]
  },
  {
   "cell_type": "code",
   "execution_count": 16,
   "id": "2b554ba2",
   "metadata": {},
   "outputs": [
    {
     "name": "stdout",
     "output_type": "stream",
     "text": [
      "Coefficients: [0.00643763 0.50931943]\n",
      "Intercept: 2.309233024679452\n",
      "Mean squared error (MSE): 2.13\n",
      "Coefficient of determination (R^2): 0.43\n"
     ]
    }
   ],
   "source": [
    "print('Coefficients:', model.coef_)\n",
    "print('Intercept:', model.intercept_)\n",
    "print('Mean squared error (MSE): %.2f'\n",
    "      % mean_squared_error(Y_test, Y_pred))\n",
    "print('Coefficient of determination (R^2): %.2f'\n",
    "      % r2_score(Y_test, Y_pred))"
   ]
  },
  {
   "cell_type": "markdown",
   "id": "a8f07a47",
   "metadata": {},
   "source": [
    "### String formatting for the above equation"
   ]
  },
  {
   "cell_type": "code",
   "execution_count": 17,
   "id": "8e511c48",
   "metadata": {},
   "outputs": [
    {
     "data": {
      "text/plain": [
       "0.42613144904287914"
      ]
     },
     "execution_count": 17,
     "metadata": {},
     "output_type": "execute_result"
    }
   ],
   "source": [
    "r2_score(Y_test, Y_pred)"
   ]
  },
  {
   "cell_type": "code",
   "execution_count": 20,
   "id": "d4844f97",
   "metadata": {},
   "outputs": [
    {
     "data": {
      "text/plain": [
       "dtype('float64')"
      ]
     },
     "execution_count": 20,
     "metadata": {},
     "output_type": "execute_result"
    }
   ],
   "source": [
    "r2_score(Y_test, Y_pred).dtype"
   ]
  },
  {
   "cell_type": "code",
   "execution_count": 21,
   "id": "3494ec66",
   "metadata": {},
   "outputs": [
    {
     "data": {
      "text/plain": [
       "'0.523811'"
      ]
     },
     "execution_count": 21,
     "metadata": {},
     "output_type": "execute_result"
    }
   ],
   "source": [
    "'%f' % 0.523810833536016"
   ]
  },
  {
   "cell_type": "code",
   "execution_count": 22,
   "id": "d48cdc06",
   "metadata": {},
   "outputs": [
    {
     "data": {
      "text/plain": [
       "'0.524'"
      ]
     },
     "execution_count": 22,
     "metadata": {},
     "output_type": "execute_result"
    }
   ],
   "source": [
    "'%.3f' % 0.523810833536016"
   ]
  },
  {
   "cell_type": "code",
   "execution_count": 23,
   "id": "cd876aca",
   "metadata": {},
   "outputs": [
    {
     "data": {
      "text/plain": [
       "'0.52'"
      ]
     },
     "execution_count": 23,
     "metadata": {},
     "output_type": "execute_result"
    }
   ],
   "source": [
    "'%.2f' % 0.523810833536016"
   ]
  },
  {
   "cell_type": "markdown",
   "id": "39ddb26b",
   "metadata": {},
   "source": [
    "## Scatter Plots"
   ]
  },
  {
   "cell_type": "code",
   "execution_count": 18,
   "id": "39f542ed",
   "metadata": {},
   "outputs": [],
   "source": [
    "import seaborn as sns"
   ]
  },
  {
   "cell_type": "markdown",
   "id": "c68c5e38",
   "metadata": {},
   "source": [
    "### Make scatter plot"
   ]
  },
  {
   "cell_type": "markdown",
   "id": "be8a4534",
   "metadata": {},
   "source": [
    "#### The Data"
   ]
  },
  {
   "cell_type": "code",
   "execution_count": 19,
   "id": "bf20426a",
   "metadata": {},
   "outputs": [
    {
     "data": {
      "text/plain": [
       "95     14.42\n",
       "69     11.74\n",
       "59     11.24\n",
       "52     13.26\n",
       "76     13.05\n",
       "78     13.54\n",
       "126    17.32\n",
       "84     15.24\n",
       "34     12.27\n",
       "5      10.07\n",
       "46     13.96\n",
       "31     12.47\n",
       "120    18.33\n",
       "79     13.79\n",
       "92     14.48\n",
       "123    17.39\n",
       "37     13.16\n",
       "29     13.23\n",
       "97     16.08\n",
       "110    14.86\n",
       "107    14.01\n",
       "103    16.67\n",
       "39     13.66\n",
       "36     12.47\n",
       "112    15.17\n",
       "113    15.12\n",
       "Name: Total Price, dtype: float64"
      ]
     },
     "execution_count": 19,
     "metadata": {},
     "output_type": "execute_result"
    }
   ],
   "source": [
    "Y_test"
   ]
  },
  {
   "cell_type": "code",
   "execution_count": 20,
   "id": "b62db839",
   "metadata": {},
   "outputs": [
    {
     "data": {
      "text/plain": [
       "array([14.0836474 , 13.88025085, 13.51989301, 12.96867734, 13.21139376,\n",
       "       12.94493159, 16.49534865, 13.55777601, 13.70246738,  9.97450688,\n",
       "       13.37905894, 14.36031763, 15.05639037, 13.14793167, 16.53740553,\n",
       "       15.40534184, 15.05213828, 13.6185253 , 14.22008123, 13.92583147,\n",
       "       15.22296863, 15.36139392, 14.64412199, 14.47291813, 14.90421264,\n",
       "       15.27958938])"
      ]
     },
     "execution_count": 20,
     "metadata": {},
     "output_type": "execute_result"
    }
   ],
   "source": [
    "Y_pred"
   ]
  },
  {
   "cell_type": "markdown",
   "id": "e12ff964",
   "metadata": {},
   "source": [
    "#### Making scatter plot"
   ]
  },
  {
   "cell_type": "code",
   "execution_count": 21,
   "id": "871779fd",
   "metadata": {},
   "outputs": [
    {
     "name": "stderr",
     "output_type": "stream",
     "text": [
      "C:\\Users\\PC\\AppData\\Local\\Programs\\Python\\Python310\\lib\\site-packages\\seaborn\\_decorators.py:36: FutureWarning: Pass the following variables as keyword args: x, y. From version 0.12, the only valid positional argument will be `data`, and passing other arguments without an explicit keyword will result in an error or misinterpretation.\n",
      "  warnings.warn(\n"
     ]
    },
    {
     "data": {
      "text/plain": [
       "<AxesSubplot:xlabel='Total Price'>"
      ]
     },
     "execution_count": 21,
     "metadata": {},
     "output_type": "execute_result"
    },
    {
     "data": {
      "image/png": "[encoded data removed]",
      "text/plain": [
       "<Figure size 432x288 with 1 Axes>"
      ]
     },
     "metadata": {
      "needs_background": "light"
     },
     "output_type": "display_data"
    }
   ],
   "source": [
    "sns.scatterplot(Y_test, Y_pred)"
   ]
  },
  {
   "cell_type": "code",
   "execution_count": 22,
   "id": "56914afe",
   "metadata": {},
   "outputs": [
    {
     "name": "stderr",
     "output_type": "stream",
     "text": [
      "C:\\Users\\PC\\AppData\\Local\\Programs\\Python\\Python310\\lib\\site-packages\\seaborn\\_decorators.py:36: FutureWarning: Pass the following variables as keyword args: x, y. From version 0.12, the only valid positional argument will be `data`, and passing other arguments without an explicit keyword will result in an error or misinterpretation.\n",
      "  warnings.warn(\n"
     ]
    },
    {
     "data": {
      "text/plain": [
       "<AxesSubplot:xlabel='Total Price'>"
      ]
     },
     "execution_count": 22,
     "metadata": {},
     "output_type": "execute_result"
    },
    {
     "data": {
      "image/png": "[encoded data removed]",
      "text/plain": [
       "<Figure size 432x288 with 1 Axes>"
      ]
     },
     "metadata": {
      "needs_background": "light"
     },
     "output_type": "display_data"
    }
   ],
   "source": [
    "sns.scatterplot(Y_test, Y_pred, marker=\"+\")\n"
   ]
  },
  {
   "cell_type": "code",
   "execution_count": 23,
   "id": "7e73233a",
   "metadata": {},
   "outputs": [
    {
     "name": "stderr",
     "output_type": "stream",
     "text": [
      "C:\\Users\\PC\\AppData\\Local\\Programs\\Python\\Python310\\lib\\site-packages\\seaborn\\_decorators.py:36: FutureWarning: Pass the following variables as keyword args: x, y. From version 0.12, the only valid positional argument will be `data`, and passing other arguments without an explicit keyword will result in an error or misinterpretation.\n",
      "  warnings.warn(\n"
     ]
    },
    {
     "data": {
      "text/plain": [
       "<AxesSubplot:xlabel='Total Price'>"
      ]
     },
     "execution_count": 23,
     "metadata": {},
     "output_type": "execute_result"
    },
    {
     "data": {
      "image/png": "[encoded data removed]",
      "text/plain": [
       "<Figure size 432x288 with 1 Axes>"
      ]
     },
     "metadata": {
      "needs_background": "light"
     },
     "output_type": "display_data"
    }
   ],
   "source": [
    "sns.scatterplot(Y_test, Y_pred, alpha=0.5)"
   ]
  },
  {
   "cell_type": "markdown",
   "id": "980f0981",
   "metadata": {},
   "source": [
    "#### Checking the plots of our raw data"
   ]
  },
  {
   "cell_type": "code",
   "execution_count": 24,
   "id": "4e806fae",
   "metadata": {},
   "outputs": [
    {
     "data": {
      "text/plain": [
       "[<matplotlib.lines.Line2D at 0x219da46de10>]"
      ]
     },
     "execution_count": 24,
     "metadata": {},
     "output_type": "execute_result"
    },
    {
     "data": {
      "image/png": "[encoded data removed]",
      "text/plain": [
       "<Figure size 432x288 with 1 Axes>"
      ]
     },
     "metadata": {
      "needs_background": "light"
     },
     "output_type": "display_data"
    }
   ],
   "source": [
    "import matplotlib.pyplot as plt\n",
    "plt.plot(df.Date, df['Total Price'])"
   ]
  },
  {
   "cell_type": "code",
   "execution_count": 25,
   "id": "11420b92",
   "metadata": {},
   "outputs": [
    {
     "data": {
      "text/plain": [
       "<AxesSubplot:xlabel='Date', ylabel='Total Price'>"
      ]
     },
     "execution_count": 25,
     "metadata": {},
     "output_type": "execute_result"
    },
    {
     "data": {
      "image/png": "[encoded data removed]",
      "text/plain": [
       "<Figure size 432x432 with 1 Axes>"
      ]
     },
     "metadata": {
      "needs_background": "light"
     },
     "output_type": "display_data"
    }
   ],
   "source": [
    "# BFP vs Crude Oil Price\n",
    "df.plot(kind='scatter', x='Date', y='Total Price', figsize=(6,6))\n",
    "#plt.plot(df.Date, df['Total Price'])"
   ]
  },
  {
   "cell_type": "code",
   "execution_count": null,
   "id": "40efff81",
   "metadata": {},
   "outputs": [],
   "source": []
  }
 ],
 "metadata": {
  "kernelspec": {
   "display_name": "Python 3 (ipykernel)",
   "language": "python",
   "name": "python3"
  },
  "language_info": {
   "codemirror_mode": {
    "name": "ipython",
    "version": 3
   },
   "file_extension": ".py",
   "mimetype": "text/x-python",
   "name": "python",
   "nbconvert_exporter": "python",
   "pygments_lexer": "ipython3",
   "version": "3.10.2"
  }
 },
 "nbformat": 4,
 "nbformat_minor": 5
}
