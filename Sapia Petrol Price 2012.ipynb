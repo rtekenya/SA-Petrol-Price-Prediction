{
 "cells": [
  {
   "cell_type": "code",
   "execution_count": 1,
   "id": "a9bc2884",
   "metadata": {},
   "outputs": [],
   "source": [
    "import pandas as pd\n",
    "from bs4 import BeautifulSoup\n",
    "import requests"
   ]
  },
  {
   "cell_type": "code",
   "execution_count": 2,
   "id": "d351b1b4",
   "metadata": {},
   "outputs": [],
   "source": [
    "url = 'https://www.sapia.org.za/Overview/Old-fuel-prices'\n",
    "page = requests.get(url)"
   ]
  },
  {
   "cell_type": "code",
   "execution_count": 3,
   "id": "bc9025f7",
   "metadata": {},
   "outputs": [],
   "source": [
    "soup = BeautifulSoup(page.content, 'html.parser')\n",
    "lists = soup.find('div', class_='DnnModule DnnModule-DNN_HTML DnnModule-479')\n",
    "table = lists.find('table', {'id': 'box-table'})"
   ]
  },
  {
   "cell_type": "code",
   "execution_count": 4,
   "id": "56824874",
   "metadata": {},
   "outputs": [
    {
     "name": "stdout",
     "output_type": "stream",
     "text": [
      "['YR2012', '03-Jan-12', '01-Feb-12', '07-Mar-12', '04-Apr-12', '02-May-12', '06-Jun-12', '04-Jul-12', '01-Aug-12', '05-Sep-12', '03-Oct-12', '07-Nov-12', '05-Dec-12']\n"
     ]
    }
   ],
   "source": [
    "headers = []\n",
    "for i in lists.find_all('td')[:13]:\n",
    "    title = i.text\n",
    "    headers.append(title)\n",
    "print(headers)"
   ]
  },
  {
   "cell_type": "code",
   "execution_count": 5,
   "id": "9c32bf81",
   "metadata": {},
   "outputs": [],
   "source": [
    "df = pd.DataFrame(columns=headers)"
   ]
  },
  {
   "cell_type": "code",
   "execution_count": 6,
   "id": "9f8f04f0",
   "metadata": {},
   "outputs": [],
   "source": [
    "for row in table.find_all('tr')[1:]:\n",
    "    data = row.find_all('td')\n",
    "    row_data = [td.text for td in data]\n",
    "    lenght = len(df)\n",
    "    df.loc[lenght] = row_data"
   ]
  },
  {
   "cell_type": "code",
   "execution_count": 7,
   "id": "fa2edc4e",
   "metadata": {},
   "outputs": [
    {
     "data": {
      "text/html": [
       "<div>\n",
       "<style scoped>\n",
       "    .dataframe tbody tr th:only-of-type {\n",
       "        vertical-align: middle;\n",
       "    }\n",
       "\n",
       "    .dataframe tbody tr th {\n",
       "        vertical-align: top;\n",
       "    }\n",
       "\n",
       "    .dataframe thead th {\n",
       "        text-align: right;\n",
       "    }\n",
       "</style>\n",
       "<table border=\"1\" class=\"dataframe\">\n",
       "  <thead>\n",
       "    <tr style=\"text-align: right;\">\n",
       "      <th></th>\n",
       "      <th>YR2012</th>\n",
       "      <th>03-Jan-12</th>\n",
       "      <th>01-Feb-12</th>\n",
       "      <th>07-Mar-12</th>\n",
       "      <th>04-Apr-12</th>\n",
       "      <th>02-May-12</th>\n",
       "      <th>06-Jun-12</th>\n",
       "      <th>04-Jul-12</th>\n",
       "      <th>01-Aug-12</th>\n",
       "      <th>05-Sep-12</th>\n",
       "      <th>03-Oct-12</th>\n",
       "      <th>07-Nov-12</th>\n",
       "      <th>05-Dec-12</th>\n",
       "    </tr>\n",
       "  </thead>\n",
       "  <tbody>\n",
       "    <tr>\n",
       "      <th>0</th>\n",
       "      <td>COASTAL</td>\n",
       "      <td></td>\n",
       "      <td></td>\n",
       "      <td></td>\n",
       "      <td></td>\n",
       "      <td></td>\n",
       "      <td></td>\n",
       "      <td></td>\n",
       "      <td></td>\n",
       "      <td></td>\n",
       "      <td></td>\n",
       "      <td></td>\n",
       "      <td></td>\n",
       "    </tr>\n",
       "    <tr>\n",
       "      <th>1</th>\n",
       "      <td>95 LRP (c/l)</td>\n",
       "      <td>1031.00</td>\n",
       "      <td>1065.00</td>\n",
       "      <td>1093.00</td>\n",
       "      <td>1159.00</td>\n",
       "      <td>1187.00</td>\n",
       "      <td>1132.00</td>\n",
       "      <td>1047.00</td>\n",
       "      <td>1069.00</td>\n",
       "      <td>1162.00</td>\n",
       "      <td>1185.00</td>\n",
       "      <td>1175.00</td>\n",
       "      <td>1166.00</td>\n",
       "    </tr>\n",
       "    <tr>\n",
       "      <th>2</th>\n",
       "      <td>95 ULP (c/l)</td>\n",
       "      <td>1031.00</td>\n",
       "      <td>1065.00</td>\n",
       "      <td>1093.00</td>\n",
       "      <td>1159.00</td>\n",
       "      <td>1187.00</td>\n",
       "      <td>1132.00</td>\n",
       "      <td>1047.00</td>\n",
       "      <td>1069.00</td>\n",
       "      <td>1162.00</td>\n",
       "      <td>1185.00</td>\n",
       "      <td>1175.00</td>\n",
       "      <td>1166.00</td>\n",
       "    </tr>\n",
       "    <tr>\n",
       "      <th>3</th>\n",
       "      <td>Diesel 0.05% (c/l)</td>\n",
       "      <td>1007.29</td>\n",
       "      <td>1006.29</td>\n",
       "      <td>1016.67</td>\n",
       "      <td>1064.27</td>\n",
       "      <td>1073.67</td>\n",
       "      <td>1048.85</td>\n",
       "      <td>986.270</td>\n",
       "      <td>1000.89</td>\n",
       "      <td>1069.89</td>\n",
       "      <td>1109.05</td>\n",
       "      <td>1119.25</td>\n",
       "      <td>1114.25</td>\n",
       "    </tr>\n",
       "    <tr>\n",
       "      <th>4</th>\n",
       "      <td>Diesel 0.005% (c/l)</td>\n",
       "      <td>1012.69</td>\n",
       "      <td>1010.69</td>\n",
       "      <td>1020.07</td>\n",
       "      <td>1069.67</td>\n",
       "      <td>1078.07</td>\n",
       "      <td>1053.25</td>\n",
       "      <td>991.670</td>\n",
       "      <td>1007.29</td>\n",
       "      <td>1076.29</td>\n",
       "      <td>1116.45</td>\n",
       "      <td>1125.65</td>\n",
       "      <td>1119.65</td>\n",
       "    </tr>\n",
       "  </tbody>\n",
       "</table>\n",
       "</div>"
      ],
      "text/plain": [
       "                YR2012 03-Jan-12 01-Feb-12 07-Mar-12 04-Apr-12 02-May-12  \\\n",
       "0              COASTAL                                                     \n",
       "1         95 LRP (c/l)   1031.00   1065.00   1093.00   1159.00   1187.00   \n",
       "2         95 ULP (c/l)   1031.00   1065.00   1093.00   1159.00   1187.00   \n",
       "3   Diesel 0.05% (c/l)   1007.29   1006.29   1016.67   1064.27   1073.67   \n",
       "4  Diesel 0.005% (c/l)   1012.69   1010.69   1020.07   1069.67   1078.07   \n",
       "\n",
       "  06-Jun-12 04-Jul-12 01-Aug-12 05-Sep-12 03-Oct-12 07-Nov-12 05-Dec-12  \n",
       "0                                                                        \n",
       "1   1132.00   1047.00   1069.00   1162.00   1185.00   1175.00   1166.00  \n",
       "2   1132.00   1047.00   1069.00   1162.00   1185.00   1175.00   1166.00  \n",
       "3   1048.85   986.270   1000.89   1069.89   1109.05   1119.25   1114.25  \n",
       "4   1053.25   991.670   1007.29   1076.29   1116.45   1125.65   1119.65  "
      ]
     },
     "execution_count": 7,
     "metadata": {},
     "output_type": "execute_result"
    }
   ],
   "source": [
    "df.head()"
   ]
  },
  {
   "cell_type": "code",
   "execution_count": 8,
   "id": "b2693210",
   "metadata": {},
   "outputs": [],
   "source": [
    "df.to_csv('petroleum2012.csv')"
   ]
  },
  {
   "cell_type": "code",
   "execution_count": null,
   "id": "1e0606de",
   "metadata": {},
   "outputs": [],
   "source": []
  }
 ],
 "metadata": {
  "kernelspec": {
   "display_name": "Python 3 (ipykernel)",
   "language": "python",
   "name": "python3"
  },
  "language_info": {
   "codemirror_mode": {
    "name": "ipython",
    "version": 3
   },
   "file_extension": ".py",
   "mimetype": "text/x-python",
   "name": "python",
   "nbconvert_exporter": "python",
   "pygments_lexer": "ipython3",
   "version": "3.8.8"
  }
 },
 "nbformat": 4,
 "nbformat_minor": 5
}
