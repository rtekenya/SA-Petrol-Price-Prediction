{
 "cells": [
  {
   "cell_type": "code",
   "execution_count": 1,
   "id": "a9bc2884",
   "metadata": {},
   "outputs": [],
   "source": [
    "import pandas as pd\n",
    "from bs4 import BeautifulSoup\n",
    "import requests"
   ]
  },
  {
   "cell_type": "code",
   "execution_count": 2,
   "id": "d351b1b4",
   "metadata": {},
   "outputs": [],
   "source": [
    "url = 'https://www.sapia.org.za/Overview/Old-fuel-prices'\n",
    "page = requests.get(url)"
   ]
  },
  {
   "cell_type": "code",
   "execution_count": 3,
   "id": "bc9025f7",
   "metadata": {},
   "outputs": [],
   "source": [
    "soup = BeautifulSoup(page.content, 'html.parser')\n",
    "lists = soup.find('div', class_='DnnModule DnnModule-DNN_HTML DnnModule-432')\n",
    "table = lists.find('table', {'id': 'box-table'})"
   ]
  },
  {
   "cell_type": "code",
   "execution_count": 4,
   "id": "56824874",
   "metadata": {},
   "outputs": [
    {
     "name": "stdout",
     "output_type": "stream",
     "text": [
      "['YR2016', '06-Jan-16', '03-Feb-16', '02-Mar-16', '06-Apr-16', '04-May-16', '01-Jun-16', '06-Jul-16', '03-Aug-16', '07-Sep-16', '05-Oct-16', '02-Nov-16', '07-Dec-16']\n"
     ]
    }
   ],
   "source": [
    "headers = []\n",
    "for i in lists.find_all('td')[:13]:\n",
    "    title = i.text\n",
    "    headers.append(title)\n",
    "print(headers)"
   ]
  },
  {
   "cell_type": "code",
   "execution_count": 5,
   "id": "9c32bf81",
   "metadata": {},
   "outputs": [],
   "source": [
    "df = pd.DataFrame(columns=headers)"
   ]
  },
  {
   "cell_type": "code",
   "execution_count": 6,
   "id": "9f8f04f0",
   "metadata": {},
   "outputs": [],
   "source": [
    "for row in table.find_all('tr')[1:]:\n",
    "    data = row.find_all('td')\n",
    "    row_data = [td.text for td in data]\n",
    "    lenght = len(df)\n",
    "    df.loc[lenght] = row_data"
   ]
  },
  {
   "cell_type": "code",
   "execution_count": 7,
   "id": "fa2edc4e",
   "metadata": {},
   "outputs": [
    {
     "data": {
      "text/html": [
       "<div>\n",
       "<style scoped>\n",
       "    .dataframe tbody tr th:only-of-type {\n",
       "        vertical-align: middle;\n",
       "    }\n",
       "\n",
       "    .dataframe tbody tr th {\n",
       "        vertical-align: top;\n",
       "    }\n",
       "\n",
       "    .dataframe thead th {\n",
       "        text-align: right;\n",
       "    }\n",
       "</style>\n",
       "<table border=\"1\" class=\"dataframe\">\n",
       "  <thead>\n",
       "    <tr style=\"text-align: right;\">\n",
       "      <th></th>\n",
       "      <th>YR2016</th>\n",
       "      <th>06-Jan-16</th>\n",
       "      <th>03-Feb-16</th>\n",
       "      <th>02-Mar-16</th>\n",
       "      <th>06-Apr-16</th>\n",
       "      <th>04-May-16</th>\n",
       "      <th>01-Jun-16</th>\n",
       "      <th>06-Jul-16</th>\n",
       "      <th>03-Aug-16</th>\n",
       "      <th>07-Sep-16</th>\n",
       "      <th>05-Oct-16</th>\n",
       "      <th>02-Nov-16</th>\n",
       "      <th>07-Dec-16</th>\n",
       "    </tr>\n",
       "  </thead>\n",
       "  <tbody>\n",
       "    <tr>\n",
       "      <th>0</th>\n",
       "      <td>COASTAL</td>\n",
       "      <td></td>\n",
       "      <td></td>\n",
       "      <td></td>\n",
       "      <td></td>\n",
       "      <td></td>\n",
       "      <td></td>\n",
       "      <td></td>\n",
       "      <td></td>\n",
       "      <td></td>\n",
       "      <td></td>\n",
       "      <td></td>\n",
       "      <td></td>\n",
       "    </tr>\n",
       "    <tr>\n",
       "      <th>1</th>\n",
       "      <td>95 LRP (c/l)</td>\n",
       "      <td>1194.00</td>\n",
       "      <td>1200.00</td>\n",
       "      <td>1131.00</td>\n",
       "      <td>1214.00</td>\n",
       "      <td>1226.00</td>\n",
       "      <td>1278.00</td>\n",
       "      <td>1286.00</td>\n",
       "      <td>1187.00</td>\n",
       "      <td>1169.00</td>\n",
       "      <td>1212.00</td>\n",
       "      <td>1257.00</td>\n",
       "      <td>1237.00</td>\n",
       "    </tr>\n",
       "    <tr>\n",
       "      <th>2</th>\n",
       "      <td>95 ULP (c/l)</td>\n",
       "      <td>1194.00</td>\n",
       "      <td>1200.00</td>\n",
       "      <td>1131.00</td>\n",
       "      <td>1214.00</td>\n",
       "      <td>1226.00</td>\n",
       "      <td>1278.00</td>\n",
       "      <td>1286.00</td>\n",
       "      <td>1187.00</td>\n",
       "      <td>1169.00</td>\n",
       "      <td>1212.00</td>\n",
       "      <td>1257.00</td>\n",
       "      <td>1237.00</td>\n",
       "    </tr>\n",
       "    <tr>\n",
       "      <th>3</th>\n",
       "      <td>Diesel 0.05% (c/l)</td>\n",
       "      <td>972.47</td>\n",
       "      <td>910.47</td>\n",
       "      <td>925.47</td>\n",
       "      <td>1015.47</td>\n",
       "      <td>1014.47</td>\n",
       "      <td>1090.47</td>\n",
       "      <td>1132.47</td>\n",
       "      <td>1058.47</td>\n",
       "      <td>1010.47</td>\n",
       "      <td>1033.47</td>\n",
       "      <td>1096.47</td>\n",
       "      <td>1064.43</td>\n",
       "    </tr>\n",
       "    <tr>\n",
       "      <th>4</th>\n",
       "      <td>Diesel 0.005% (c/l)</td>\n",
       "      <td>977.87</td>\n",
       "      <td>914.87</td>\n",
       "      <td>928.87</td>\n",
       "      <td>1020.87</td>\n",
       "      <td>1018.87</td>\n",
       "      <td>1094.87</td>\n",
       "      <td>1135.87</td>\n",
       "      <td>1062.87</td>\n",
       "      <td>1013.87</td>\n",
       "      <td>1036.87</td>\n",
       "      <td>1099.87</td>\n",
       "      <td>1068.83</td>\n",
       "    </tr>\n",
       "  </tbody>\n",
       "</table>\n",
       "</div>"
      ],
      "text/plain": [
       "                YR2016 06-Jan-16 03-Feb-16 02-Mar-16 06-Apr-16 04-May-16  \\\n",
       "0              COASTAL                                                     \n",
       "1         95 LRP (c/l)   1194.00   1200.00  1131.00    1214.00  1226.00    \n",
       "2         95 ULP (c/l)   1194.00   1200.00  1131.00    1214.00  1226.00    \n",
       "3   Diesel 0.05% (c/l)    972.47    910.47   925.47   1015.47   1014.47    \n",
       "4  Diesel 0.005% (c/l)    977.87    914.87   928.87   1020.87   1018.87    \n",
       "\n",
       "  01-Jun-16 06-Jul-16 03-Aug-16 07-Sep-16 05-Oct-16 02-Nov-16 07-Dec-16  \n",
       "0                                                                        \n",
       "1  1278.00   1286.00    1187.00   1169.00   1212.00  1257.00   1237.00   \n",
       "2  1278.00   1286.00    1187.00   1169.00   1212.00  1257.00   1237.00   \n",
       "3  1090.47   1132.47    1058.47   1010.47   1033.47  1096.47   1064.43   \n",
       "4  1094.87   1135.87    1062.87   1013.87   1036.87  1099.87   1068.83   "
      ]
     },
     "execution_count": 7,
     "metadata": {},
     "output_type": "execute_result"
    }
   ],
   "source": [
    "df.head()"
   ]
  },
  {
   "cell_type": "code",
   "execution_count": 8,
   "id": "b2693210",
   "metadata": {},
   "outputs": [],
   "source": [
    "df.to_csv('petroleum2016.csv')"
   ]
  },
  {
   "cell_type": "code",
   "execution_count": null,
   "id": "1e0606de",
   "metadata": {},
   "outputs": [],
   "source": []
  }
 ],
 "metadata": {
  "kernelspec": {
   "display_name": "Python 3 (ipykernel)",
   "language": "python",
   "name": "python3"
  },
  "language_info": {
   "codemirror_mode": {
    "name": "ipython",
    "version": 3
   },
   "file_extension": ".py",
   "mimetype": "text/x-python",
   "name": "python",
   "nbconvert_exporter": "python",
   "pygments_lexer": "ipython3",
   "version": "3.8.8"
  }
 },
 "nbformat": 4,
 "nbformat_minor": 5
}
